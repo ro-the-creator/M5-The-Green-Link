{
 "cells": [
  {
   "cell_type": "markdown",
   "id": "57a37032",
   "metadata": {},
   "source": [
    "## Funnel Analysis"
   ]
  },
  {
   "cell_type": "code",
   "execution_count": 1,
   "id": "a573dfb6",
   "metadata": {},
   "outputs": [],
   "source": [
    "import pandas as pd\n",
    "import numpy as np"
   ]
  },
  {
   "cell_type": "code",
   "execution_count": 2,
   "id": "a64a1789",
   "metadata": {},
   "outputs": [],
   "source": [
    "path1 = '/Users/Marcy_Student/Desktop/Marcy-Modules/Mod5/Final-Project/M5-The-Green-Link/data/ro-cleaned-location.csv'      # Kiosk Location\n",
    "path2 = '/Users/Marcy_Student/Desktop/Marcy-Modules/Mod5/Final-Project/M5-The-Green-Link/data/ro-cleaned-usage.csv'         # Kiosk Usage\n",
    "\n",
    "df_loc = pd.read_csv(path1)\n",
    "df_use = pd.read_csv(path2)"
   ]
  },
  {
   "cell_type": "code",
   "execution_count": 3,
   "id": "e2fe827e",
   "metadata": {},
   "outputs": [
    {
     "data": {
      "text/html": [
       "<div>\n",
       "<style scoped>\n",
       "    .dataframe tbody tr th:only-of-type {\n",
       "        vertical-align: middle;\n",
       "    }\n",
       "\n",
       "    .dataframe tbody tr th {\n",
       "        vertical-align: top;\n",
       "    }\n",
       "\n",
       "    .dataframe thead th {\n",
       "        text-align: right;\n",
       "    }\n",
       "</style>\n",
       "<table border=\"1\" class=\"dataframe\">\n",
       "  <thead>\n",
       "    <tr style=\"text-align: right;\">\n",
       "      <th></th>\n",
       "      <th>Unnamed: 0</th>\n",
       "      <th>week_end_date</th>\n",
       "      <th>sessions</th>\n",
       "      <th>avg_session_length</th>\n",
       "      <th>unique_clients</th>\n",
       "      <th>tb_downloaded</th>\n",
       "      <th>tb_uploaded</th>\n",
       "      <th>cumulative_bandwidth_tb</th>\n",
       "      <th>cumulative_sessions</th>\n",
       "      <th>cumulative_subscribers</th>\n",
       "      <th>gb_per_session</th>\n",
       "      <th>weekly_session_change_pct</th>\n",
       "      <th>avg_session_length_seconds</th>\n",
       "      <th>avg_session_length_minutes</th>\n",
       "      <th>energy_efficiency</th>\n",
       "      <th>energy_usage_flag</th>\n",
       "    </tr>\n",
       "  </thead>\n",
       "  <tbody>\n",
       "    <tr>\n",
       "      <th>0</th>\n",
       "      <td>0</td>\n",
       "      <td>2020-01-05</td>\n",
       "      <td>23086410</td>\n",
       "      <td>00:04:07</td>\n",
       "      <td>683250</td>\n",
       "      <td>121.01</td>\n",
       "      <td>12.67</td>\n",
       "      <td>14353.83</td>\n",
       "      <td>2251215052</td>\n",
       "      <td>8461839</td>\n",
       "      <td>0.005929</td>\n",
       "      <td>NaN</td>\n",
       "      <td>247</td>\n",
       "      <td>4.12</td>\n",
       "      <td>0.006940</td>\n",
       "      <td>Poor</td>\n",
       "    </tr>\n",
       "    <tr>\n",
       "      <th>1</th>\n",
       "      <td>1</td>\n",
       "      <td>2020-01-12</td>\n",
       "      <td>23584159</td>\n",
       "      <td>00:04:07</td>\n",
       "      <td>640118</td>\n",
       "      <td>116.52</td>\n",
       "      <td>11.14</td>\n",
       "      <td>14501.59</td>\n",
       "      <td>2284581863</td>\n",
       "      <td>8502485</td>\n",
       "      <td>0.005543</td>\n",
       "      <td>2.16</td>\n",
       "      <td>247</td>\n",
       "      <td>4.12</td>\n",
       "      <td>0.006490</td>\n",
       "      <td>Poor</td>\n",
       "    </tr>\n",
       "    <tr>\n",
       "      <th>2</th>\n",
       "      <td>2</td>\n",
       "      <td>2020-01-19</td>\n",
       "      <td>22004022</td>\n",
       "      <td>00:04:07</td>\n",
       "      <td>592715</td>\n",
       "      <td>114.50</td>\n",
       "      <td>10.52</td>\n",
       "      <td>14626.62</td>\n",
       "      <td>2306585885</td>\n",
       "      <td>8536567</td>\n",
       "      <td>0.005818</td>\n",
       "      <td>-6.70</td>\n",
       "      <td>247</td>\n",
       "      <td>4.12</td>\n",
       "      <td>0.006812</td>\n",
       "      <td>Poor</td>\n",
       "    </tr>\n",
       "    <tr>\n",
       "      <th>3</th>\n",
       "      <td>3</td>\n",
       "      <td>2020-01-26</td>\n",
       "      <td>20245042</td>\n",
       "      <td>00:04:15</td>\n",
       "      <td>602685</td>\n",
       "      <td>118.05</td>\n",
       "      <td>10.13</td>\n",
       "      <td>14754.79</td>\n",
       "      <td>2326830927</td>\n",
       "      <td>8571523</td>\n",
       "      <td>0.006483</td>\n",
       "      <td>-7.99</td>\n",
       "      <td>255</td>\n",
       "      <td>4.25</td>\n",
       "      <td>0.007588</td>\n",
       "      <td>Poor</td>\n",
       "    </tr>\n",
       "    <tr>\n",
       "      <th>4</th>\n",
       "      <td>4</td>\n",
       "      <td>2020-02-02</td>\n",
       "      <td>22356460</td>\n",
       "      <td>00:04:11</td>\n",
       "      <td>617337</td>\n",
       "      <td>120.69</td>\n",
       "      <td>10.94</td>\n",
       "      <td>14886.42</td>\n",
       "      <td>2349187387</td>\n",
       "      <td>8615640</td>\n",
       "      <td>0.006029</td>\n",
       "      <td>10.43</td>\n",
       "      <td>251</td>\n",
       "      <td>4.18</td>\n",
       "      <td>0.007059</td>\n",
       "      <td>Poor</td>\n",
       "    </tr>\n",
       "    <tr>\n",
       "      <th>...</th>\n",
       "      <td>...</td>\n",
       "      <td>...</td>\n",
       "      <td>...</td>\n",
       "      <td>...</td>\n",
       "      <td>...</td>\n",
       "      <td>...</td>\n",
       "      <td>...</td>\n",
       "      <td>...</td>\n",
       "      <td>...</td>\n",
       "      <td>...</td>\n",
       "      <td>...</td>\n",
       "      <td>...</td>\n",
       "      <td>...</td>\n",
       "      <td>...</td>\n",
       "      <td>...</td>\n",
       "      <td>...</td>\n",
       "    </tr>\n",
       "    <tr>\n",
       "      <th>295</th>\n",
       "      <td>295</td>\n",
       "      <td>2025-08-31</td>\n",
       "      <td>3514042</td>\n",
       "      <td>00:32:47</td>\n",
       "      <td>220347</td>\n",
       "      <td>125.73</td>\n",
       "      <td>19.75</td>\n",
       "      <td>51492.35</td>\n",
       "      <td>3789308905</td>\n",
       "      <td>19248889</td>\n",
       "      <td>0.042393</td>\n",
       "      <td>3.03</td>\n",
       "      <td>1967</td>\n",
       "      <td>32.78</td>\n",
       "      <td>0.049329</td>\n",
       "      <td>Excellent</td>\n",
       "    </tr>\n",
       "    <tr>\n",
       "      <th>296</th>\n",
       "      <td>296</td>\n",
       "      <td>2025-09-07</td>\n",
       "      <td>3441776</td>\n",
       "      <td>00:33:59</td>\n",
       "      <td>218942</td>\n",
       "      <td>124.08</td>\n",
       "      <td>19.76</td>\n",
       "      <td>51636.19</td>\n",
       "      <td>3792750681</td>\n",
       "      <td>19306948</td>\n",
       "      <td>0.042795</td>\n",
       "      <td>-2.06</td>\n",
       "      <td>2039</td>\n",
       "      <td>33.98</td>\n",
       "      <td>0.049789</td>\n",
       "      <td>Excellent</td>\n",
       "    </tr>\n",
       "    <tr>\n",
       "      <th>297</th>\n",
       "      <td>297</td>\n",
       "      <td>2025-09-14</td>\n",
       "      <td>3559167</td>\n",
       "      <td>00:32:48</td>\n",
       "      <td>218422</td>\n",
       "      <td>127.53</td>\n",
       "      <td>19.76</td>\n",
       "      <td>51783.47</td>\n",
       "      <td>3796309848</td>\n",
       "      <td>19366536</td>\n",
       "      <td>0.042376</td>\n",
       "      <td>3.41</td>\n",
       "      <td>1968</td>\n",
       "      <td>32.80</td>\n",
       "      <td>0.049321</td>\n",
       "      <td>Excellent</td>\n",
       "    </tr>\n",
       "    <tr>\n",
       "      <th>298</th>\n",
       "      <td>298</td>\n",
       "      <td>2025-09-21</td>\n",
       "      <td>3535639</td>\n",
       "      <td>00:32:51</td>\n",
       "      <td>219953</td>\n",
       "      <td>130.08</td>\n",
       "      <td>19.62</td>\n",
       "      <td>51933.18</td>\n",
       "      <td>3799845487</td>\n",
       "      <td>19423364</td>\n",
       "      <td>0.043356</td>\n",
       "      <td>-0.66</td>\n",
       "      <td>1971</td>\n",
       "      <td>32.85</td>\n",
       "      <td>0.050454</td>\n",
       "      <td>Excellent</td>\n",
       "    </tr>\n",
       "    <tr>\n",
       "      <th>299</th>\n",
       "      <td>299</td>\n",
       "      <td>2025-09-28</td>\n",
       "      <td>3432378</td>\n",
       "      <td>00:32:42</td>\n",
       "      <td>217730</td>\n",
       "      <td>128.86</td>\n",
       "      <td>19.09</td>\n",
       "      <td>52081.13</td>\n",
       "      <td>3803277865</td>\n",
       "      <td>19479585</td>\n",
       "      <td>0.044139</td>\n",
       "      <td>-2.92</td>\n",
       "      <td>1962</td>\n",
       "      <td>32.70</td>\n",
       "      <td>0.051353</td>\n",
       "      <td>Excellent</td>\n",
       "    </tr>\n",
       "  </tbody>\n",
       "</table>\n",
       "<p>300 rows × 16 columns</p>\n",
       "</div>"
      ],
      "text/plain": [
       "     Unnamed: 0 week_end_date  sessions avg_session_length  unique_clients  \\\n",
       "0             0    2020-01-05  23086410           00:04:07          683250   \n",
       "1             1    2020-01-12  23584159           00:04:07          640118   \n",
       "2             2    2020-01-19  22004022           00:04:07          592715   \n",
       "3             3    2020-01-26  20245042           00:04:15          602685   \n",
       "4             4    2020-02-02  22356460           00:04:11          617337   \n",
       "..          ...           ...       ...                ...             ...   \n",
       "295         295    2025-08-31   3514042           00:32:47          220347   \n",
       "296         296    2025-09-07   3441776           00:33:59          218942   \n",
       "297         297    2025-09-14   3559167           00:32:48          218422   \n",
       "298         298    2025-09-21   3535639           00:32:51          219953   \n",
       "299         299    2025-09-28   3432378           00:32:42          217730   \n",
       "\n",
       "     tb_downloaded  tb_uploaded  cumulative_bandwidth_tb  cumulative_sessions  \\\n",
       "0           121.01        12.67                 14353.83           2251215052   \n",
       "1           116.52        11.14                 14501.59           2284581863   \n",
       "2           114.50        10.52                 14626.62           2306585885   \n",
       "3           118.05        10.13                 14754.79           2326830927   \n",
       "4           120.69        10.94                 14886.42           2349187387   \n",
       "..             ...          ...                      ...                  ...   \n",
       "295         125.73        19.75                 51492.35           3789308905   \n",
       "296         124.08        19.76                 51636.19           3792750681   \n",
       "297         127.53        19.76                 51783.47           3796309848   \n",
       "298         130.08        19.62                 51933.18           3799845487   \n",
       "299         128.86        19.09                 52081.13           3803277865   \n",
       "\n",
       "     cumulative_subscribers  gb_per_session  weekly_session_change_pct  \\\n",
       "0                   8461839        0.005929                        NaN   \n",
       "1                   8502485        0.005543                       2.16   \n",
       "2                   8536567        0.005818                      -6.70   \n",
       "3                   8571523        0.006483                      -7.99   \n",
       "4                   8615640        0.006029                      10.43   \n",
       "..                      ...             ...                        ...   \n",
       "295                19248889        0.042393                       3.03   \n",
       "296                19306948        0.042795                      -2.06   \n",
       "297                19366536        0.042376                       3.41   \n",
       "298                19423364        0.043356                      -0.66   \n",
       "299                19479585        0.044139                      -2.92   \n",
       "\n",
       "     avg_session_length_seconds  avg_session_length_minutes  \\\n",
       "0                           247                        4.12   \n",
       "1                           247                        4.12   \n",
       "2                           247                        4.12   \n",
       "3                           255                        4.25   \n",
       "4                           251                        4.18   \n",
       "..                          ...                         ...   \n",
       "295                        1967                       32.78   \n",
       "296                        2039                       33.98   \n",
       "297                        1968                       32.80   \n",
       "298                        1971                       32.85   \n",
       "299                        1962                       32.70   \n",
       "\n",
       "     energy_efficiency energy_usage_flag  \n",
       "0             0.006940              Poor  \n",
       "1             0.006490              Poor  \n",
       "2             0.006812              Poor  \n",
       "3             0.007588              Poor  \n",
       "4             0.007059              Poor  \n",
       "..                 ...               ...  \n",
       "295           0.049329         Excellent  \n",
       "296           0.049789         Excellent  \n",
       "297           0.049321         Excellent  \n",
       "298           0.050454         Excellent  \n",
       "299           0.051353         Excellent  \n",
       "\n",
       "[300 rows x 16 columns]"
      ]
     },
     "execution_count": 3,
     "metadata": {},
     "output_type": "execute_result"
    }
   ],
   "source": [
    "df_use"
   ]
  },
  {
   "cell_type": "code",
   "execution_count": 4,
   "id": "6c405cc6",
   "metadata": {},
   "outputs": [
    {
     "data": {
      "text/html": [
       "<div>\n",
       "<style scoped>\n",
       "    .dataframe tbody tr th:only-of-type {\n",
       "        vertical-align: middle;\n",
       "    }\n",
       "\n",
       "    .dataframe tbody tr th {\n",
       "        vertical-align: top;\n",
       "    }\n",
       "\n",
       "    .dataframe thead th {\n",
       "        text-align: right;\n",
       "    }\n",
       "</style>\n",
       "<table border=\"1\" class=\"dataframe\">\n",
       "  <thead>\n",
       "    <tr style=\"text-align: right;\">\n",
       "      <th></th>\n",
       "      <th>Unnamed: 0.1</th>\n",
       "      <th>Unnamed: 0</th>\n",
       "      <th>site_id</th>\n",
       "      <th>planned_kiosk_type</th>\n",
       "      <th>installation_status</th>\n",
       "      <th>ppt_id</th>\n",
       "      <th>legacy_id</th>\n",
       "      <th>borough</th>\n",
       "      <th>council_district</th>\n",
       "      <th>community_board</th>\n",
       "      <th>...</th>\n",
       "      <th>longitude</th>\n",
       "      <th>installation_complete</th>\n",
       "      <th>activation_complete</th>\n",
       "      <th>neighborhood_tabulation_area_nta</th>\n",
       "      <th>building_identification_number_bin</th>\n",
       "      <th>boroughblocklot_bbl</th>\n",
       "      <th>census_tract_ct</th>\n",
       "      <th>location</th>\n",
       "      <th>activation_time</th>\n",
       "      <th>kiosk_age</th>\n",
       "    </tr>\n",
       "  </thead>\n",
       "  <tbody>\n",
       "    <tr>\n",
       "      <th>0</th>\n",
       "      <td>0</td>\n",
       "      <td>0</td>\n",
       "      <td>qu-01-125088</td>\n",
       "      <td>Link1.0</td>\n",
       "      <td>Live</td>\n",
       "      <td>125088</td>\n",
       "      <td>qu-01-125088</td>\n",
       "      <td>Queens</td>\n",
       "      <td>22</td>\n",
       "      <td>401</td>\n",
       "      <td>...</td>\n",
       "      <td>-73.922879</td>\n",
       "      <td>2017-04-22</td>\n",
       "      <td>2017-06-08</td>\n",
       "      <td>Astoria</td>\n",
       "      <td>4008830.0</td>\n",
       "      <td>4.006220e+09</td>\n",
       "      <td>4005900.0</td>\n",
       "      <td>(40.760713, -73.922879)</td>\n",
       "      <td>47 days</td>\n",
       "      <td>3050 days 15:14:42.881348</td>\n",
       "    </tr>\n",
       "    <tr>\n",
       "      <th>1</th>\n",
       "      <td>1</td>\n",
       "      <td>1</td>\n",
       "      <td>bk-01-160081</td>\n",
       "      <td>Link5G_Ad</td>\n",
       "      <td>Live</td>\n",
       "      <td>NaN</td>\n",
       "      <td>NaN</td>\n",
       "      <td>Brooklyn</td>\n",
       "      <td>34</td>\n",
       "      <td>301</td>\n",
       "      <td>...</td>\n",
       "      <td>-73.928620</td>\n",
       "      <td>2024-10-09</td>\n",
       "      <td>2025-03-14</td>\n",
       "      <td>NaN</td>\n",
       "      <td>NaN</td>\n",
       "      <td>3.029620e+09</td>\n",
       "      <td>44900.0</td>\n",
       "      <td>(40.71108, -73.92862)</td>\n",
       "      <td>156 days</td>\n",
       "      <td>214 days 15:14:42.881348</td>\n",
       "    </tr>\n",
       "    <tr>\n",
       "      <th>2</th>\n",
       "      <td>2</td>\n",
       "      <td>2</td>\n",
       "      <td>qu-13-160016</td>\n",
       "      <td>Link5G_Ad</td>\n",
       "      <td>Live</td>\n",
       "      <td>NaN</td>\n",
       "      <td>NaN</td>\n",
       "      <td>Queens</td>\n",
       "      <td>23</td>\n",
       "      <td>413</td>\n",
       "      <td>...</td>\n",
       "      <td>-73.708140</td>\n",
       "      <td>2024-02-29</td>\n",
       "      <td>2025-04-02</td>\n",
       "      <td>Glen Oaks-Floral Park-New Hyde Park</td>\n",
       "      <td>4174076.0</td>\n",
       "      <td>4.085400e+09</td>\n",
       "      <td>NaN</td>\n",
       "      <td>(40.74917, -73.70814)</td>\n",
       "      <td>398 days</td>\n",
       "      <td>195 days 15:14:42.881348</td>\n",
       "    </tr>\n",
       "    <tr>\n",
       "      <th>3</th>\n",
       "      <td>3</td>\n",
       "      <td>3</td>\n",
       "      <td>mn-04-122598</td>\n",
       "      <td>Link1.0</td>\n",
       "      <td>Live</td>\n",
       "      <td>122598</td>\n",
       "      <td>mn-04-122598</td>\n",
       "      <td>Manhattan</td>\n",
       "      <td>3</td>\n",
       "      <td>104</td>\n",
       "      <td>...</td>\n",
       "      <td>-73.986606</td>\n",
       "      <td>2016-03-18</td>\n",
       "      <td>2016-04-27</td>\n",
       "      <td>Clinton</td>\n",
       "      <td>1076203.0</td>\n",
       "      <td>1.010400e+09</td>\n",
       "      <td>1012700.0</td>\n",
       "      <td>(40.761816, -73.986606)</td>\n",
       "      <td>40 days</td>\n",
       "      <td>3457 days 15:14:42.881348</td>\n",
       "    </tr>\n",
       "    <tr>\n",
       "      <th>4</th>\n",
       "      <td>4</td>\n",
       "      <td>4</td>\n",
       "      <td>mn-05-137210</td>\n",
       "      <td>Link1.0</td>\n",
       "      <td>Live</td>\n",
       "      <td>137210</td>\n",
       "      <td>mn-05-137210</td>\n",
       "      <td>Manhattan</td>\n",
       "      <td>4</td>\n",
       "      <td>105</td>\n",
       "      <td>...</td>\n",
       "      <td>-73.976530</td>\n",
       "      <td>2017-04-30</td>\n",
       "      <td>2017-05-26</td>\n",
       "      <td>Midtown-Midtown South</td>\n",
       "      <td>1035437.0</td>\n",
       "      <td>1.012840e+09</td>\n",
       "      <td>1009400.0</td>\n",
       "      <td>(40.756742, -73.97653)</td>\n",
       "      <td>26 days</td>\n",
       "      <td>3063 days 15:14:42.881348</td>\n",
       "    </tr>\n",
       "    <tr>\n",
       "      <th>...</th>\n",
       "      <td>...</td>\n",
       "      <td>...</td>\n",
       "      <td>...</td>\n",
       "      <td>...</td>\n",
       "      <td>...</td>\n",
       "      <td>...</td>\n",
       "      <td>...</td>\n",
       "      <td>...</td>\n",
       "      <td>...</td>\n",
       "      <td>...</td>\n",
       "      <td>...</td>\n",
       "      <td>...</td>\n",
       "      <td>...</td>\n",
       "      <td>...</td>\n",
       "      <td>...</td>\n",
       "      <td>...</td>\n",
       "      <td>...</td>\n",
       "      <td>...</td>\n",
       "      <td>...</td>\n",
       "      <td>...</td>\n",
       "      <td>...</td>\n",
       "    </tr>\n",
       "    <tr>\n",
       "      <th>2245</th>\n",
       "      <td>2245</td>\n",
       "      <td>2245</td>\n",
       "      <td>bk-03-145748</td>\n",
       "      <td>Link1.0</td>\n",
       "      <td>Live</td>\n",
       "      <td>145748</td>\n",
       "      <td>LINK-018100</td>\n",
       "      <td>Brooklyn</td>\n",
       "      <td>35</td>\n",
       "      <td>303</td>\n",
       "      <td>...</td>\n",
       "      <td>-73.958535</td>\n",
       "      <td>2017-02-27</td>\n",
       "      <td>2017-04-20</td>\n",
       "      <td>Clinton Hill</td>\n",
       "      <td>3057307.0</td>\n",
       "      <td>3.019940e+09</td>\n",
       "      <td>3022700.0</td>\n",
       "      <td>(40.681853, -73.958535)</td>\n",
       "      <td>52 days</td>\n",
       "      <td>3099 days 15:14:42.881348</td>\n",
       "    </tr>\n",
       "    <tr>\n",
       "      <th>2246</th>\n",
       "      <td>2246</td>\n",
       "      <td>2246</td>\n",
       "      <td>mn-06-133436</td>\n",
       "      <td>Link1.0</td>\n",
       "      <td>Live</td>\n",
       "      <td>133436</td>\n",
       "      <td>mn-06-133436</td>\n",
       "      <td>Manhattan</td>\n",
       "      <td>4</td>\n",
       "      <td>106</td>\n",
       "      <td>...</td>\n",
       "      <td>-73.967568</td>\n",
       "      <td>2016-02-27</td>\n",
       "      <td>2016-07-19</td>\n",
       "      <td>Turtle Bay-East Midtown</td>\n",
       "      <td>1038590.0</td>\n",
       "      <td>1.013300e+09</td>\n",
       "      <td>1010800.0</td>\n",
       "      <td>(40.760005, -73.967568)</td>\n",
       "      <td>143 days</td>\n",
       "      <td>3374 days 15:14:42.881348</td>\n",
       "    </tr>\n",
       "    <tr>\n",
       "      <th>2247</th>\n",
       "      <td>2247</td>\n",
       "      <td>2247</td>\n",
       "      <td>mn-09-118158</td>\n",
       "      <td>Link1.0</td>\n",
       "      <td>Live</td>\n",
       "      <td>118158</td>\n",
       "      <td>mn-09-118158</td>\n",
       "      <td>Manhattan</td>\n",
       "      <td>7</td>\n",
       "      <td>109</td>\n",
       "      <td>...</td>\n",
       "      <td>-73.957517</td>\n",
       "      <td>2018-05-01</td>\n",
       "      <td>2020-10-20</td>\n",
       "      <td>Morningside Heights</td>\n",
       "      <td>1084108.0</td>\n",
       "      <td>1.019780e+09</td>\n",
       "      <td>1021100.0</td>\n",
       "      <td>(40.811845, -73.957517)</td>\n",
       "      <td>903 days</td>\n",
       "      <td>1820 days 15:14:42.881348</td>\n",
       "    </tr>\n",
       "    <tr>\n",
       "      <th>2248</th>\n",
       "      <td>2248</td>\n",
       "      <td>2248</td>\n",
       "      <td>qu-04-145913</td>\n",
       "      <td>Link1.0</td>\n",
       "      <td>Live</td>\n",
       "      <td>145913</td>\n",
       "      <td>LINK-019899</td>\n",
       "      <td>Queens</td>\n",
       "      <td>25</td>\n",
       "      <td>404</td>\n",
       "      <td>...</td>\n",
       "      <td>-73.879360</td>\n",
       "      <td>2017-08-19</td>\n",
       "      <td>2017-09-07</td>\n",
       "      <td>Elmhurst</td>\n",
       "      <td>4314501.0</td>\n",
       "      <td>4.015800e+09</td>\n",
       "      <td>4047100.0</td>\n",
       "      <td>(40.740737, -73.87936)</td>\n",
       "      <td>19 days</td>\n",
       "      <td>2959 days 15:14:42.881348</td>\n",
       "    </tr>\n",
       "    <tr>\n",
       "      <th>2249</th>\n",
       "      <td>2249</td>\n",
       "      <td>2249</td>\n",
       "      <td>mn-06-121692</td>\n",
       "      <td>Link1.0</td>\n",
       "      <td>Live</td>\n",
       "      <td>121692</td>\n",
       "      <td>mn-06-121692</td>\n",
       "      <td>Manhattan</td>\n",
       "      <td>5</td>\n",
       "      <td>106</td>\n",
       "      <td>...</td>\n",
       "      <td>-73.963213</td>\n",
       "      <td>2017-10-25</td>\n",
       "      <td>2018-03-06</td>\n",
       "      <td>Turtle Bay-East Midtown</td>\n",
       "      <td>1040466.0</td>\n",
       "      <td>1.013680e+09</td>\n",
       "      <td>1010601.0</td>\n",
       "      <td>(40.757701, -73.963213)</td>\n",
       "      <td>132 days</td>\n",
       "      <td>2779 days 15:14:42.881348</td>\n",
       "    </tr>\n",
       "  </tbody>\n",
       "</table>\n",
       "<p>2250 rows × 27 columns</p>\n",
       "</div>"
      ],
      "text/plain": [
       "      Unnamed: 0.1  Unnamed: 0       site_id planned_kiosk_type  \\\n",
       "0                0           0  qu-01-125088            Link1.0   \n",
       "1                1           1  bk-01-160081          Link5G_Ad   \n",
       "2                2           2  qu-13-160016          Link5G_Ad   \n",
       "3                3           3  mn-04-122598            Link1.0   \n",
       "4                4           4  mn-05-137210            Link1.0   \n",
       "...            ...         ...           ...                ...   \n",
       "2245          2245        2245  bk-03-145748            Link1.0   \n",
       "2246          2246        2246  mn-06-133436            Link1.0   \n",
       "2247          2247        2247  mn-09-118158            Link1.0   \n",
       "2248          2248        2248  qu-04-145913            Link1.0   \n",
       "2249          2249        2249  mn-06-121692            Link1.0   \n",
       "\n",
       "     installation_status  ppt_id     legacy_id    borough  council_district  \\\n",
       "0                   Live  125088  qu-01-125088     Queens                22   \n",
       "1                   Live     NaN           NaN   Brooklyn                34   \n",
       "2                   Live     NaN           NaN     Queens                23   \n",
       "3                   Live  122598  mn-04-122598  Manhattan                 3   \n",
       "4                   Live  137210  mn-05-137210  Manhattan                 4   \n",
       "...                  ...     ...           ...        ...               ...   \n",
       "2245                Live  145748   LINK-018100   Brooklyn                35   \n",
       "2246                Live  133436  mn-06-133436  Manhattan                 4   \n",
       "2247                Live  118158  mn-09-118158  Manhattan                 7   \n",
       "2248                Live  145913   LINK-019899     Queens                25   \n",
       "2249                Live  121692  mn-06-121692  Manhattan                 5   \n",
       "\n",
       "      community_board  ...  longitude installation_complete  \\\n",
       "0                 401  ... -73.922879            2017-04-22   \n",
       "1                 301  ... -73.928620            2024-10-09   \n",
       "2                 413  ... -73.708140            2024-02-29   \n",
       "3                 104  ... -73.986606            2016-03-18   \n",
       "4                 105  ... -73.976530            2017-04-30   \n",
       "...               ...  ...        ...                   ...   \n",
       "2245              303  ... -73.958535            2017-02-27   \n",
       "2246              106  ... -73.967568            2016-02-27   \n",
       "2247              109  ... -73.957517            2018-05-01   \n",
       "2248              404  ... -73.879360            2017-08-19   \n",
       "2249              106  ... -73.963213            2017-10-25   \n",
       "\n",
       "     activation_complete     neighborhood_tabulation_area_nta  \\\n",
       "0             2017-06-08                              Astoria   \n",
       "1             2025-03-14                                  NaN   \n",
       "2             2025-04-02  Glen Oaks-Floral Park-New Hyde Park   \n",
       "3             2016-04-27                              Clinton   \n",
       "4             2017-05-26                Midtown-Midtown South   \n",
       "...                  ...                                  ...   \n",
       "2245          2017-04-20                         Clinton Hill   \n",
       "2246          2016-07-19              Turtle Bay-East Midtown   \n",
       "2247          2020-10-20                  Morningside Heights   \n",
       "2248          2017-09-07                             Elmhurst   \n",
       "2249          2018-03-06              Turtle Bay-East Midtown   \n",
       "\n",
       "      building_identification_number_bin boroughblocklot_bbl  census_tract_ct  \\\n",
       "0                              4008830.0        4.006220e+09        4005900.0   \n",
       "1                                    NaN        3.029620e+09          44900.0   \n",
       "2                              4174076.0        4.085400e+09              NaN   \n",
       "3                              1076203.0        1.010400e+09        1012700.0   \n",
       "4                              1035437.0        1.012840e+09        1009400.0   \n",
       "...                                  ...                 ...              ...   \n",
       "2245                           3057307.0        3.019940e+09        3022700.0   \n",
       "2246                           1038590.0        1.013300e+09        1010800.0   \n",
       "2247                           1084108.0        1.019780e+09        1021100.0   \n",
       "2248                           4314501.0        4.015800e+09        4047100.0   \n",
       "2249                           1040466.0        1.013680e+09        1010601.0   \n",
       "\n",
       "                     location activation_time                  kiosk_age  \n",
       "0     (40.760713, -73.922879)         47 days  3050 days 15:14:42.881348  \n",
       "1       (40.71108, -73.92862)        156 days   214 days 15:14:42.881348  \n",
       "2       (40.74917, -73.70814)        398 days   195 days 15:14:42.881348  \n",
       "3     (40.761816, -73.986606)         40 days  3457 days 15:14:42.881348  \n",
       "4      (40.756742, -73.97653)         26 days  3063 days 15:14:42.881348  \n",
       "...                       ...             ...                        ...  \n",
       "2245  (40.681853, -73.958535)         52 days  3099 days 15:14:42.881348  \n",
       "2246  (40.760005, -73.967568)        143 days  3374 days 15:14:42.881348  \n",
       "2247  (40.811845, -73.957517)        903 days  1820 days 15:14:42.881348  \n",
       "2248   (40.740737, -73.87936)         19 days  2959 days 15:14:42.881348  \n",
       "2249  (40.757701, -73.963213)        132 days  2779 days 15:14:42.881348  \n",
       "\n",
       "[2250 rows x 27 columns]"
      ]
     },
     "execution_count": 4,
     "metadata": {},
     "output_type": "execute_result"
    }
   ],
   "source": [
    "df_loc"
   ]
  },
  {
   "cell_type": "code",
   "execution_count": 5,
   "id": "f6902572",
   "metadata": {},
   "outputs": [
    {
     "data": {
      "text/plain": [
       "energy_usage_flag\n",
       "Excellent    29.416000\n",
       "Fair         25.492222\n",
       "Good         26.743889\n",
       "Poor          5.192556\n",
       "Name: avg_session_length_minutes, dtype: float64"
      ]
     },
     "execution_count": 5,
     "metadata": {},
     "output_type": "execute_result"
    }
   ],
   "source": [
    "# Checking averages per flag\n",
    "df_use.groupby('energy_usage_flag')['avg_session_length_minutes'].mean()"
   ]
  },
  {
   "cell_type": "code",
   "execution_count": 6,
   "id": "d38b7e1e",
   "metadata": {},
   "outputs": [
    {
     "name": "stderr",
     "output_type": "stream",
     "text": [
      "/var/folders/gs/yv3dj4zx2tgdd5tw701ypspm0000gp/T/ipykernel_1362/2187857219.py:4: SettingWithCopyWarning: \n",
      "A value is trying to be set on a copy of a slice from a DataFrame.\n",
      "Try using .loc[row_indexer,col_indexer] = value instead\n",
      "\n",
      "See the caveats in the documentation: https://pandas.pydata.org/pandas-docs/stable/user_guide/indexing.html#returning-a-view-versus-a-copy\n",
      "  funnel['base_week'] = 1\n",
      "/var/folders/gs/yv3dj4zx2tgdd5tw701ypspm0000gp/T/ipykernel_1362/2187857219.py:5: SettingWithCopyWarning: \n",
      "A value is trying to be set on a copy of a slice from a DataFrame.\n",
      "Try using .loc[row_indexer,col_indexer] = value instead\n",
      "\n",
      "See the caveats in the documentation: https://pandas.pydata.org/pandas-docs/stable/user_guide/indexing.html#returning-a-view-versus-a-copy\n",
      "  funnel['is_poor'] = funnel['energy_usage_flag'] == 'Poor'\n",
      "/var/folders/gs/yv3dj4zx2tgdd5tw701ypspm0000gp/T/ipykernel_1362/2187857219.py:6: SettingWithCopyWarning: \n",
      "A value is trying to be set on a copy of a slice from a DataFrame.\n",
      "Try using .loc[row_indexer,col_indexer] = value instead\n",
      "\n",
      "See the caveats in the documentation: https://pandas.pydata.org/pandas-docs/stable/user_guide/indexing.html#returning-a-view-versus-a-copy\n",
      "  funnel['is_below_time'] = funnel['avg_session_length_minutes'] < 5.5\n"
     ]
    }
   ],
   "source": [
    "# creating steps\n",
    "funnel = df_use[['avg_session_length_minutes', 'week_end_date', 'energy_usage_flag']]\n",
    "\n",
    "funnel['base_week'] = 1\n",
    "funnel['is_poor'] = funnel['energy_usage_flag'] == 'Poor'\n",
    "funnel['is_below_time'] = funnel['avg_session_length_minutes'] < 5.5\n",
    "steps = ['base_week', 'is_poor', 'is_below_time']"
   ]
  },
  {
   "cell_type": "code",
   "execution_count": null,
   "id": "0c52fe67",
   "metadata": {},
   "outputs": [
    {
     "name": "stderr",
     "output_type": "stream",
     "text": [
      "/var/folders/gs/yv3dj4zx2tgdd5tw701ypspm0000gp/T/ipykernel_1362/1767964165.py:11: FutureWarning: Series.__getitem__ treating keys as positions is deprecated. In a future version, integer keys will always be treated as labels (consistent with DataFrame behavior). To access a value by position, use `ser.iloc[pos]`\n",
      "  overall['overall_conv'] = overall['count'] / overall.loc[week_filter].iloc[0][1]\n"
     ]
    },
    {
     "data": {
      "text/html": [
       "<div>\n",
       "<style scoped>\n",
       "    .dataframe tbody tr th:only-of-type {\n",
       "        vertical-align: middle;\n",
       "    }\n",
       "\n",
       "    .dataframe tbody tr th {\n",
       "        vertical-align: top;\n",
       "    }\n",
       "\n",
       "    .dataframe thead th {\n",
       "        text-align: right;\n",
       "    }\n",
       "</style>\n",
       "<table border=\"1\" class=\"dataframe\">\n",
       "  <thead>\n",
       "    <tr style=\"text-align: right;\">\n",
       "      <th></th>\n",
       "      <th>step</th>\n",
       "      <th>count</th>\n",
       "      <th>step_conv</th>\n",
       "      <th>overall_conv</th>\n",
       "    </tr>\n",
       "  </thead>\n",
       "  <tbody>\n",
       "    <tr>\n",
       "      <th>base_week</th>\n",
       "      <td>Total Weeks</td>\n",
       "      <td>300</td>\n",
       "      <td>NaN</td>\n",
       "      <td>100.0</td>\n",
       "    </tr>\n",
       "    <tr>\n",
       "      <th>is_poor</th>\n",
       "      <td>Poor Energy Efficiency</td>\n",
       "      <td>90</td>\n",
       "      <td>30.0</td>\n",
       "      <td>30.0</td>\n",
       "    </tr>\n",
       "    <tr>\n",
       "      <th>is_below_time</th>\n",
       "      <td>Session Time &lt; 5.5 mins</td>\n",
       "      <td>45</td>\n",
       "      <td>50.0</td>\n",
       "      <td>15.0</td>\n",
       "    </tr>\n",
       "  </tbody>\n",
       "</table>\n",
       "</div>"
      ],
      "text/plain": [
       "                                  step  count  step_conv  overall_conv\n",
       "base_week                  Total Weeks    300        NaN         100.0\n",
       "is_poor         Poor Energy Efficiency     90       30.0          30.0\n",
       "is_below_time  Session Time < 5.5 mins     45       50.0          15.0"
      ]
     },
     "execution_count": 7,
     "metadata": {},
     "output_type": "execute_result"
    }
   ],
   "source": [
    "# creating new overall df, renaming steps\n",
    "overall = funnel[steps].sum().to_frame('count')\n",
    "overall['step'] = overall.index.map({'base_week':'Total Weeks', 'is_poor':'Poor Energy Efficiency', 'is_below_time':'Session Time < 5.5 mins'})\n",
    "overall = overall[['step', 'count']]\n",
    "\n",
    "#Step-to-step conversion\n",
    "overall['step_conv'] = ((overall['count'] / overall['count'].shift(1))*100).round(2)\n",
    "\n",
    "# overall conversion\n",
    "week_filter = overall['step']=='Total Weeks'\n",
    "overall['overall_conv'] = overall['count'] / overall.loc[week_filter].iloc[0][1]\n",
    "overall['overall_conv'] = (overall['overall_conv']*100).round(2)\n",
    "overall"
   ]
  },
  {
   "cell_type": "code",
   "execution_count": 8,
   "id": "12b989be",
   "metadata": {},
   "outputs": [
    {
     "data": {
      "application/vnd.plotly.v1+json": {
       "config": {
        "plotlyServerURL": "https://plot.ly"
       },
       "data": [
        {
         "connector": {
          "line": {
           "color": "royalblue",
           "dash": "dot",
           "width": 3
          }
         },
         "marker": {
          "color": [
           "#1f77b4",
           "#ff7f0e",
           "#2ca02c"
          ],
          "line": {
           "color": [
            "#FFFFFF",
            "#FFFFFF",
            "#FFFFFF",
            "#FFFFFF",
            "#FFFFFF"
           ],
           "width": [
            2,
            2,
            2,
            2,
            2
           ]
          }
         },
         "opacity": 0.8,
         "textinfo": "value+percent initial",
         "textposition": "inside",
         "type": "funnel",
         "x": {
          "bdata": "LAFaAC0A",
          "dtype": "i2"
         },
         "y": [
          "Total Weeks",
          "Poor Energy Efficiency",
          "Session Time < 5.5 mins"
         ]
        }
       ],
       "layout": {
        "font": {
         "color": "black",
         "family": "Arial, sans-serif",
         "size": 14
        },
        "template": {
         "data": {
          "bar": [
           {
            "error_x": {
             "color": "#2a3f5f"
            },
            "error_y": {
             "color": "#2a3f5f"
            },
            "marker": {
             "line": {
              "color": "#E5ECF6",
              "width": 0.5
             },
             "pattern": {
              "fillmode": "overlay",
              "size": 10,
              "solidity": 0.2
             }
            },
            "type": "bar"
           }
          ],
          "barpolar": [
           {
            "marker": {
             "line": {
              "color": "#E5ECF6",
              "width": 0.5
             },
             "pattern": {
              "fillmode": "overlay",
              "size": 10,
              "solidity": 0.2
             }
            },
            "type": "barpolar"
           }
          ],
          "carpet": [
           {
            "aaxis": {
             "endlinecolor": "#2a3f5f",
             "gridcolor": "white",
             "linecolor": "white",
             "minorgridcolor": "white",
             "startlinecolor": "#2a3f5f"
            },
            "baxis": {
             "endlinecolor": "#2a3f5f",
             "gridcolor": "white",
             "linecolor": "white",
             "minorgridcolor": "white",
             "startlinecolor": "#2a3f5f"
            },
            "type": "carpet"
           }
          ],
          "choropleth": [
           {
            "colorbar": {
             "outlinewidth": 0,
             "ticks": ""
            },
            "type": "choropleth"
           }
          ],
          "contour": [
           {
            "colorbar": {
             "outlinewidth": 0,
             "ticks": ""
            },
            "colorscale": [
             [
              0,
              "#0d0887"
             ],
             [
              0.1111111111111111,
              "#46039f"
             ],
             [
              0.2222222222222222,
              "#7201a8"
             ],
             [
              0.3333333333333333,
              "#9c179e"
             ],
             [
              0.4444444444444444,
              "#bd3786"
             ],
             [
              0.5555555555555556,
              "#d8576b"
             ],
             [
              0.6666666666666666,
              "#ed7953"
             ],
             [
              0.7777777777777778,
              "#fb9f3a"
             ],
             [
              0.8888888888888888,
              "#fdca26"
             ],
             [
              1,
              "#f0f921"
             ]
            ],
            "type": "contour"
           }
          ],
          "contourcarpet": [
           {
            "colorbar": {
             "outlinewidth": 0,
             "ticks": ""
            },
            "type": "contourcarpet"
           }
          ],
          "heatmap": [
           {
            "colorbar": {
             "outlinewidth": 0,
             "ticks": ""
            },
            "colorscale": [
             [
              0,
              "#0d0887"
             ],
             [
              0.1111111111111111,
              "#46039f"
             ],
             [
              0.2222222222222222,
              "#7201a8"
             ],
             [
              0.3333333333333333,
              "#9c179e"
             ],
             [
              0.4444444444444444,
              "#bd3786"
             ],
             [
              0.5555555555555556,
              "#d8576b"
             ],
             [
              0.6666666666666666,
              "#ed7953"
             ],
             [
              0.7777777777777778,
              "#fb9f3a"
             ],
             [
              0.8888888888888888,
              "#fdca26"
             ],
             [
              1,
              "#f0f921"
             ]
            ],
            "type": "heatmap"
           }
          ],
          "histogram": [
           {
            "marker": {
             "pattern": {
              "fillmode": "overlay",
              "size": 10,
              "solidity": 0.2
             }
            },
            "type": "histogram"
           }
          ],
          "histogram2d": [
           {
            "colorbar": {
             "outlinewidth": 0,
             "ticks": ""
            },
            "colorscale": [
             [
              0,
              "#0d0887"
             ],
             [
              0.1111111111111111,
              "#46039f"
             ],
             [
              0.2222222222222222,
              "#7201a8"
             ],
             [
              0.3333333333333333,
              "#9c179e"
             ],
             [
              0.4444444444444444,
              "#bd3786"
             ],
             [
              0.5555555555555556,
              "#d8576b"
             ],
             [
              0.6666666666666666,
              "#ed7953"
             ],
             [
              0.7777777777777778,
              "#fb9f3a"
             ],
             [
              0.8888888888888888,
              "#fdca26"
             ],
             [
              1,
              "#f0f921"
             ]
            ],
            "type": "histogram2d"
           }
          ],
          "histogram2dcontour": [
           {
            "colorbar": {
             "outlinewidth": 0,
             "ticks": ""
            },
            "colorscale": [
             [
              0,
              "#0d0887"
             ],
             [
              0.1111111111111111,
              "#46039f"
             ],
             [
              0.2222222222222222,
              "#7201a8"
             ],
             [
              0.3333333333333333,
              "#9c179e"
             ],
             [
              0.4444444444444444,
              "#bd3786"
             ],
             [
              0.5555555555555556,
              "#d8576b"
             ],
             [
              0.6666666666666666,
              "#ed7953"
             ],
             [
              0.7777777777777778,
              "#fb9f3a"
             ],
             [
              0.8888888888888888,
              "#fdca26"
             ],
             [
              1,
              "#f0f921"
             ]
            ],
            "type": "histogram2dcontour"
           }
          ],
          "mesh3d": [
           {
            "colorbar": {
             "outlinewidth": 0,
             "ticks": ""
            },
            "type": "mesh3d"
           }
          ],
          "parcoords": [
           {
            "line": {
             "colorbar": {
              "outlinewidth": 0,
              "ticks": ""
             }
            },
            "type": "parcoords"
           }
          ],
          "pie": [
           {
            "automargin": true,
            "type": "pie"
           }
          ],
          "scatter": [
           {
            "fillpattern": {
             "fillmode": "overlay",
             "size": 10,
             "solidity": 0.2
            },
            "type": "scatter"
           }
          ],
          "scatter3d": [
           {
            "line": {
             "colorbar": {
              "outlinewidth": 0,
              "ticks": ""
             }
            },
            "marker": {
             "colorbar": {
              "outlinewidth": 0,
              "ticks": ""
             }
            },
            "type": "scatter3d"
           }
          ],
          "scattercarpet": [
           {
            "marker": {
             "colorbar": {
              "outlinewidth": 0,
              "ticks": ""
             }
            },
            "type": "scattercarpet"
           }
          ],
          "scattergeo": [
           {
            "marker": {
             "colorbar": {
              "outlinewidth": 0,
              "ticks": ""
             }
            },
            "type": "scattergeo"
           }
          ],
          "scattergl": [
           {
            "marker": {
             "colorbar": {
              "outlinewidth": 0,
              "ticks": ""
             }
            },
            "type": "scattergl"
           }
          ],
          "scattermap": [
           {
            "marker": {
             "colorbar": {
              "outlinewidth": 0,
              "ticks": ""
             }
            },
            "type": "scattermap"
           }
          ],
          "scattermapbox": [
           {
            "marker": {
             "colorbar": {
              "outlinewidth": 0,
              "ticks": ""
             }
            },
            "type": "scattermapbox"
           }
          ],
          "scatterpolar": [
           {
            "marker": {
             "colorbar": {
              "outlinewidth": 0,
              "ticks": ""
             }
            },
            "type": "scatterpolar"
           }
          ],
          "scatterpolargl": [
           {
            "marker": {
             "colorbar": {
              "outlinewidth": 0,
              "ticks": ""
             }
            },
            "type": "scatterpolargl"
           }
          ],
          "scatterternary": [
           {
            "marker": {
             "colorbar": {
              "outlinewidth": 0,
              "ticks": ""
             }
            },
            "type": "scatterternary"
           }
          ],
          "surface": [
           {
            "colorbar": {
             "outlinewidth": 0,
             "ticks": ""
            },
            "colorscale": [
             [
              0,
              "#0d0887"
             ],
             [
              0.1111111111111111,
              "#46039f"
             ],
             [
              0.2222222222222222,
              "#7201a8"
             ],
             [
              0.3333333333333333,
              "#9c179e"
             ],
             [
              0.4444444444444444,
              "#bd3786"
             ],
             [
              0.5555555555555556,
              "#d8576b"
             ],
             [
              0.6666666666666666,
              "#ed7953"
             ],
             [
              0.7777777777777778,
              "#fb9f3a"
             ],
             [
              0.8888888888888888,
              "#fdca26"
             ],
             [
              1,
              "#f0f921"
             ]
            ],
            "type": "surface"
           }
          ],
          "table": [
           {
            "cells": {
             "fill": {
              "color": "#EBF0F8"
             },
             "line": {
              "color": "white"
             }
            },
            "header": {
             "fill": {
              "color": "#C8D4E3"
             },
             "line": {
              "color": "white"
             }
            },
            "type": "table"
           }
          ]
         },
         "layout": {
          "annotationdefaults": {
           "arrowcolor": "#2a3f5f",
           "arrowhead": 0,
           "arrowwidth": 1
          },
          "autotypenumbers": "strict",
          "coloraxis": {
           "colorbar": {
            "outlinewidth": 0,
            "ticks": ""
           }
          },
          "colorscale": {
           "diverging": [
            [
             0,
             "#8e0152"
            ],
            [
             0.1,
             "#c51b7d"
            ],
            [
             0.2,
             "#de77ae"
            ],
            [
             0.3,
             "#f1b6da"
            ],
            [
             0.4,
             "#fde0ef"
            ],
            [
             0.5,
             "#f7f7f7"
            ],
            [
             0.6,
             "#e6f5d0"
            ],
            [
             0.7,
             "#b8e186"
            ],
            [
             0.8,
             "#7fbc41"
            ],
            [
             0.9,
             "#4d9221"
            ],
            [
             1,
             "#276419"
            ]
           ],
           "sequential": [
            [
             0,
             "#0d0887"
            ],
            [
             0.1111111111111111,
             "#46039f"
            ],
            [
             0.2222222222222222,
             "#7201a8"
            ],
            [
             0.3333333333333333,
             "#9c179e"
            ],
            [
             0.4444444444444444,
             "#bd3786"
            ],
            [
             0.5555555555555556,
             "#d8576b"
            ],
            [
             0.6666666666666666,
             "#ed7953"
            ],
            [
             0.7777777777777778,
             "#fb9f3a"
            ],
            [
             0.8888888888888888,
             "#fdca26"
            ],
            [
             1,
             "#f0f921"
            ]
           ],
           "sequentialminus": [
            [
             0,
             "#0d0887"
            ],
            [
             0.1111111111111111,
             "#46039f"
            ],
            [
             0.2222222222222222,
             "#7201a8"
            ],
            [
             0.3333333333333333,
             "#9c179e"
            ],
            [
             0.4444444444444444,
             "#bd3786"
            ],
            [
             0.5555555555555556,
             "#d8576b"
            ],
            [
             0.6666666666666666,
             "#ed7953"
            ],
            [
             0.7777777777777778,
             "#fb9f3a"
            ],
            [
             0.8888888888888888,
             "#fdca26"
            ],
            [
             1,
             "#f0f921"
            ]
           ]
          },
          "colorway": [
           "#636efa",
           "#EF553B",
           "#00cc96",
           "#ab63fa",
           "#FFA15A",
           "#19d3f3",
           "#FF6692",
           "#B6E880",
           "#FF97FF",
           "#FECB52"
          ],
          "font": {
           "color": "#2a3f5f"
          },
          "geo": {
           "bgcolor": "white",
           "lakecolor": "white",
           "landcolor": "#E5ECF6",
           "showlakes": true,
           "showland": true,
           "subunitcolor": "white"
          },
          "hoverlabel": {
           "align": "left"
          },
          "hovermode": "closest",
          "mapbox": {
           "style": "light"
          },
          "paper_bgcolor": "white",
          "plot_bgcolor": "#E5ECF6",
          "polar": {
           "angularaxis": {
            "gridcolor": "white",
            "linecolor": "white",
            "ticks": ""
           },
           "bgcolor": "#E5ECF6",
           "radialaxis": {
            "gridcolor": "white",
            "linecolor": "white",
            "ticks": ""
           }
          },
          "scene": {
           "xaxis": {
            "backgroundcolor": "#E5ECF6",
            "gridcolor": "white",
            "gridwidth": 2,
            "linecolor": "white",
            "showbackground": true,
            "ticks": "",
            "zerolinecolor": "white"
           },
           "yaxis": {
            "backgroundcolor": "#E5ECF6",
            "gridcolor": "white",
            "gridwidth": 2,
            "linecolor": "white",
            "showbackground": true,
            "ticks": "",
            "zerolinecolor": "white"
           },
           "zaxis": {
            "backgroundcolor": "#E5ECF6",
            "gridcolor": "white",
            "gridwidth": 2,
            "linecolor": "white",
            "showbackground": true,
            "ticks": "",
            "zerolinecolor": "white"
           }
          },
          "shapedefaults": {
           "line": {
            "color": "#2a3f5f"
           }
          },
          "ternary": {
           "aaxis": {
            "gridcolor": "white",
            "linecolor": "white",
            "ticks": ""
           },
           "baxis": {
            "gridcolor": "white",
            "linecolor": "white",
            "ticks": ""
           },
           "bgcolor": "#E5ECF6",
           "caxis": {
            "gridcolor": "white",
            "linecolor": "white",
            "ticks": ""
           }
          },
          "title": {
           "x": 0.05
          },
          "xaxis": {
           "automargin": true,
           "gridcolor": "white",
           "linecolor": "white",
           "ticks": "",
           "title": {
            "standoff": 15
           },
           "zerolinecolor": "white",
           "zerolinewidth": 2
          },
          "yaxis": {
           "automargin": true,
           "gridcolor": "white",
           "linecolor": "white",
           "ticks": "",
           "title": {
            "standoff": 15
           },
           "zerolinecolor": "white",
           "zerolinewidth": 2
          }
         }
        },
        "title": {
         "text": "Funnel Analysis of Weekly Performance",
         "x": 0.5,
         "xanchor": "center",
         "y": 0.9,
         "yanchor": "top"
        }
       }
      }
     },
     "metadata": {},
     "output_type": "display_data"
    }
   ],
   "source": [
    "import pandas as pd\n",
    "import plotly.graph_objects as go\n",
    "\n",
    "# --- Part 1: Define the Funnel Data ---\n",
    "funnel_data = {\n",
    "    'step': ['Total Weeks', 'Poor Energy Efficiency', 'Session Time < 5.5 mins'],\n",
    "    'count': [300, 90, 45]\n",
    "}\n",
    "df_funnel = pd.DataFrame(funnel_data)\n",
    "\n",
    "# --- Part 2: Create the Funnel Visualization ---\n",
    "\n",
    "fig = go.Figure(go.Funnel(\n",
    "    y = df_funnel['step'],\n",
    "    x = df_funnel['count'],\n",
    "    textposition = \"inside\",\n",
    "    textinfo = \"value+percent initial\",\n",
    "    opacity = 0.8,\n",
    "    marker = {\"color\": [\"#1f77b4\", \"#ff7f0e\", \"#2ca02c\"],\n",
    "              \"line\": {\"width\": [2, 2, 2, 2, 2], \"color\": [\"#FFFFFF\", \"#FFFFFF\", \"#FFFFFF\", \"#FFFFFF\", \"#FFFFFF\"]}},\n",
    "    connector = {\"line\": {\"color\": \"royalblue\", \"dash\": \"dot\", \"width\": 3}}\n",
    "))\n",
    "\n",
    "fig.update_layout(\n",
    "    title={\n",
    "        'text': \"Funnel Analysis of Weekly Performance\",\n",
    "        'y':0.9,\n",
    "        'x':0.5,\n",
    "        'xanchor': 'center',\n",
    "        'yanchor': 'top'},\n",
    "    font=dict(\n",
    "        family=\"Arial, sans-serif\",\n",
    "        size=14,\n",
    "        color=\"black\"\n",
    "    )\n",
    ")\n",
    "\n",
    "fig.show()\n"
   ]
  },
  {
   "cell_type": "code",
   "execution_count": 9,
   "id": "d3805c74-e8d5-46ee-b451-988441a6e6b6",
   "metadata": {},
   "outputs": [
    {
     "name": "stderr",
     "output_type": "stream",
     "text": [
      "/var/folders/gs/yv3dj4zx2tgdd5tw701ypspm0000gp/T/ipykernel_1362/1194901702.py:22: FutureWarning:\n",
      "\n",
      "\n",
      "\n",
      "Passing `palette` without assigning `hue` is deprecated and will be removed in v0.14.0. Assign the `y` variable to `hue` and set `legend=False` for the same effect.\n",
      "\n",
      "\n"
     ]
    },
    {
     "data": {
      "image/png": "[encoded data removed]",
      "text/plain": [
       "<Figure size 1000x600 with 1 Axes>"
      ]
     },
     "metadata": {},
     "output_type": "display_data"
    }
   ],
   "source": [
    "import pandas as pd\n",
    "import seaborn as sns\n",
    "import matplotlib.pyplot as plt\n",
    "\n",
    "# --- Part 1: Define the Funnel Data ---\n",
    "funnel_data = {\n",
    "    'step': ['Total Weeks', 'Poor Energy Efficiency', 'Session Time < 5.5 mins'],\n",
    "    'count': [300, 90, 45]\n",
    "}\n",
    "df_funnel = pd.DataFrame(funnel_data)\n",
    "\n",
    "# --- Part 2: Calculate Step-to-Step Conversion ---\n",
    "# This calculates the percentage drop-off from the *previous* step.\n",
    "df_funnel['step_conversion'] = (df_funnel['count'] / df_funnel['count'].shift(1) * 100).fillna(100)\n",
    "\n",
    "# --- Part 3: Create the Funnel Visualization with Seaborn ---\n",
    "\n",
    "plt.style.use('seaborn-v0_8-whitegrid')\n",
    "fig, ax = plt.subplots(figsize=(10, 6))\n",
    "\n",
    "# Create the horizontal bar plot\n",
    "barplot = sns.barplot(x='count', y='step', data=df_funnel, palette='viridis', orient='h', ax=ax)\n",
    "\n",
    "# --- Part 4: Add Annotations to the Bars ---\n",
    "for index, row in df_funnel.iterrows():\n",
    "    # Display the raw count\n",
    "    ax.text(row['count'] / 2, index, f\"{row['count']}\", color='white', ha='center', va='center', fontsize=14, weight='bold')\n",
    "    \n",
    "    # For the second and third steps, display the step-to-step conversion rate\n",
    "    if index > 0:\n",
    "        ax.text(row['count'] + 5, index, f\"{row['step_conversion']:.0f}% of previous\", \n",
    "                color='black', ha='left', va='center', fontsize=12)\n",
    "\n",
    "# --- Part 5: Style and Save the Chart ---\n",
    "ax.set_title('Funnel Analysis of Weekly Performance', fontsize=18, pad=20)\n",
    "ax.set_xlabel('Number of Weeks', fontsize=12)\n",
    "ax.set_ylabel('Funnel Stage', fontsize=12)\n",
    "\n",
    "# Remove the top and right spines for a cleaner look\n",
    "sns.despine()\n",
    "\n",
    "plt.tight_layout()\n",
    "plt.show()\n",
    "\n"
   ]
  },
  {
   "cell_type": "code",
   "execution_count": null,
   "id": "dec82e6f-9520-44d1-9927-1e222a0b2c69",
   "metadata": {},
   "outputs": [],
   "source": []
  }
 ],
 "metadata": {
  "kernelspec": {
   "display_name": "data-analysis-env",
   "language": "python",
   "name": "python3"
  },
  "language_info": {
   "codemirror_mode": {
    "name": "ipython",
    "version": 3
   },
   "file_extension": ".py",
   "mimetype": "text/x-python",
   "name": "python",
   "nbconvert_exporter": "python",
   "pygments_lexer": "ipython3",
   "version": "3.9.22"
  }
 },
 "nbformat": 4,
 "nbformat_minor": 5
}
